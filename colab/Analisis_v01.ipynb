{
  "nbformat": 4,
  "nbformat_minor": 0,
  "metadata": {
    "colab": {
      "name": "Analisis-v01.ipynb",
      "provenance": [],
      "authorship_tag": "ABX9TyO679oH4fF/vVwqPsuRFqDd",
      "include_colab_link": true
    },
    "kernelspec": {
      "name": "python3",
      "display_name": "Python 3"
    },
    "language_info": {
      "name": "python"
    }
  },
  "cells": [
    {
      "cell_type": "markdown",
      "metadata": {
        "id": "view-in-github",
        "colab_type": "text"
      },
      "source": [
        "<a href=\"https://colab.research.google.com/github/atmdatascience/python/blob/main/colab/Analisis_v01.ipynb\" target=\"_parent\"><img src=\"https://colab.research.google.com/assets/colab-badge.svg\" alt=\"Open In Colab\"/></a>"
      ]
    },
    {
      "cell_type": "code",
      "metadata": {
        "id": "MNDen802cW5W"
      },
      "source": [
        "import pandas as pd\n",
        "import numpy as np"
      ],
      "execution_count": 1,
      "outputs": []
    },
    {
      "cell_type": "code",
      "metadata": {
        "id": "ckrshETPcvOH"
      },
      "source": [
        "url = \"https://raw.githubusercontent.com/atmdatascience/python/main/datasets/encuestasweb/\""
      ],
      "execution_count": 2,
      "outputs": []
    },
    {
      "cell_type": "code",
      "metadata": {
        "id": "G-Ln0qWGdjVH"
      },
      "source": [
        "archivo = \"Encuestas-2021-Tramite-web.csv\""
      ],
      "execution_count": 3,
      "outputs": []
    },
    {
      "cell_type": "code",
      "metadata": {
        "id": "22C2xVhzdzI8"
      },
      "source": [
        "encuesta = pd.read_csv(url+archivo)"
      ],
      "execution_count": 4,
      "outputs": []
    },
    {
      "cell_type": "code",
      "metadata": {
        "colab": {
          "base_uri": "https://localhost:8080/",
          "height": 640
        },
        "id": "ft7YSdURd9f4",
        "outputId": "2bad44aa-929b-4ae3-9dcd-d55ea9e6f0d8"
      },
      "source": [
        "encuesta.head(7)"
      ],
      "execution_count": 5,
      "outputs": [
        {
          "output_type": "execute_result",
          "data": {
            "text/html": [
              "<div>\n",
              "<style scoped>\n",
              "    .dataframe tbody tr th:only-of-type {\n",
              "        vertical-align: middle;\n",
              "    }\n",
              "\n",
              "    .dataframe tbody tr th {\n",
              "        vertical-align: top;\n",
              "    }\n",
              "\n",
              "    .dataframe thead th {\n",
              "        text-align: right;\n",
              "    }\n",
              "</style>\n",
              "<table border=\"1\" class=\"dataframe\">\n",
              "  <thead>\n",
              "    <tr style=\"text-align: right;\">\n",
              "      <th></th>\n",
              "      <th>Unnamed: 0</th>\n",
              "      <th>Marca temporal</th>\n",
              "      <th>1. Utiliza habitualmente la página web de ATM</th>\n",
              "      <th>2. Le resultó simple la creación de su cuenta en Mis Trámites</th>\n",
              "      <th>3. Le resulta comprensible la sección de Mis Trámites</th>\n",
              "      <th>4. El trámite que realizó dentro de Mis Trámites fue resuelto de forma:</th>\n",
              "      <th>5. La información brindada por la página web de ATM es:</th>\n",
              "      <th>6. El boleto para pagar el año 2021 lo obtiene por:</th>\n",
              "      <th>Agregue aquí su sugerencia</th>\n",
              "    </tr>\n",
              "  </thead>\n",
              "  <tbody>\n",
              "    <tr>\n",
              "      <th>0</th>\n",
              "      <td>1</td>\n",
              "      <td>3/02/2021 9:49:57</td>\n",
              "      <td>SI</td>\n",
              "      <td>SI</td>\n",
              "      <td>SI</td>\n",
              "      <td>Muy satisfactoria</td>\n",
              "      <td>Muy Buena</td>\n",
              "      <td>Descarga de la página web de ATM</td>\n",
              "      <td>La unica sugerencia, es un poco mas de celerid...</td>\n",
              "    </tr>\n",
              "    <tr>\n",
              "      <th>1</th>\n",
              "      <td>2</td>\n",
              "      <td>3/02/2021 9:54:50</td>\n",
              "      <td>SI</td>\n",
              "      <td>SI</td>\n",
              "      <td>SI</td>\n",
              "      <td>Muy satisfactoria</td>\n",
              "      <td>Buena</td>\n",
              "      <td>Descarga de la página web de ATM</td>\n",
              "      <td>NaN</td>\n",
              "    </tr>\n",
              "    <tr>\n",
              "      <th>2</th>\n",
              "      <td>3</td>\n",
              "      <td>3/02/2021 10:02:35</td>\n",
              "      <td>SI</td>\n",
              "      <td>SI</td>\n",
              "      <td>SI</td>\n",
              "      <td>Satisfactoria</td>\n",
              "      <td>Buena</td>\n",
              "      <td>Descarga de la página web de ATM</td>\n",
              "      <td>NaN</td>\n",
              "    </tr>\n",
              "    <tr>\n",
              "      <th>3</th>\n",
              "      <td>4</td>\n",
              "      <td>3/02/2021 10:11:57</td>\n",
              "      <td>SI</td>\n",
              "      <td>NO</td>\n",
              "      <td>NO</td>\n",
              "      <td>Nada satisfactoria</td>\n",
              "      <td>Mala</td>\n",
              "      <td>Descarga de la página web de ATM</td>\n",
              "      <td>Llevo 90 minutos al teléfono y nadie atiende, ...</td>\n",
              "    </tr>\n",
              "    <tr>\n",
              "      <th>4</th>\n",
              "      <td>5</td>\n",
              "      <td>3/02/2021 10:32:10</td>\n",
              "      <td>SI</td>\n",
              "      <td>SI</td>\n",
              "      <td>SI</td>\n",
              "      <td>Satisfactoria</td>\n",
              "      <td>Buena</td>\n",
              "      <td>Descarga de la página web de ATM</td>\n",
              "      <td>NaN</td>\n",
              "    </tr>\n",
              "    <tr>\n",
              "      <th>5</th>\n",
              "      <td>6</td>\n",
              "      <td>3/02/2021 10:35:12</td>\n",
              "      <td>NO</td>\n",
              "      <td>SI</td>\n",
              "      <td>SI</td>\n",
              "      <td>Muy satisfactoria</td>\n",
              "      <td>Muy Buena</td>\n",
              "      <td>Descarga de la página web de ATM</td>\n",
              "      <td>NaN</td>\n",
              "    </tr>\n",
              "    <tr>\n",
              "      <th>6</th>\n",
              "      <td>7</td>\n",
              "      <td>3/02/2021 10:40:09</td>\n",
              "      <td>SI</td>\n",
              "      <td>SI</td>\n",
              "      <td>SI</td>\n",
              "      <td>Satisfactoria</td>\n",
              "      <td>Buena</td>\n",
              "      <td>Descarga de la página web de ATM</td>\n",
              "      <td>NaN</td>\n",
              "    </tr>\n",
              "  </tbody>\n",
              "</table>\n",
              "</div>"
            ],
            "text/plain": [
              "   Unnamed: 0  ...                         Agregue aquí su sugerencia\n",
              "0           1  ...  La unica sugerencia, es un poco mas de celerid...\n",
              "1           2  ...                                                NaN\n",
              "2           3  ...                                                NaN\n",
              "3           4  ...  Llevo 90 minutos al teléfono y nadie atiende, ...\n",
              "4           5  ...                                                NaN\n",
              "5           6  ...                                                NaN\n",
              "6           7  ...                                                NaN\n",
              "\n",
              "[7 rows x 9 columns]"
            ]
          },
          "metadata": {
            "tags": []
          },
          "execution_count": 5
        }
      ]
    },
    {
      "cell_type": "code",
      "metadata": {
        "colab": {
          "base_uri": "https://localhost:8080/"
        },
        "id": "8U25969weIJi",
        "outputId": "e35e04af-daee-4f5f-81a5-5b9f11aadd1f"
      },
      "source": [
        "encuesta.info()"
      ],
      "execution_count": 6,
      "outputs": [
        {
          "output_type": "stream",
          "text": [
            "<class 'pandas.core.frame.DataFrame'>\n",
            "RangeIndex: 2703 entries, 0 to 2702\n",
            "Data columns (total 9 columns):\n",
            " #   Column                                                                   Non-Null Count  Dtype \n",
            "---  ------                                                                   --------------  ----- \n",
            " 0   Unnamed: 0                                                               2703 non-null   int64 \n",
            " 1   Marca temporal                                                           2703 non-null   object\n",
            " 2   1. Utiliza habitualmente la página web de ATM                            2703 non-null   object\n",
            " 3   2. Le resultó simple la creación de su cuenta en Mis Trámites            2703 non-null   object\n",
            " 4   3. Le resulta comprensible la sección de Mis Trámites                    2703 non-null   object\n",
            " 5   4. El trámite que realizó dentro de Mis Trámites fue resuelto de forma:  2703 non-null   object\n",
            " 6   5. La información brindada por la página web de ATM es:                  2693 non-null   object\n",
            " 7   6. El boleto para pagar el año 2021 lo obtiene por:                      2703 non-null   object\n",
            " 8   Agregue aquí su sugerencia                                               951 non-null    object\n",
            "dtypes: int64(1), object(8)\n",
            "memory usage: 190.2+ KB\n"
          ],
          "name": "stdout"
        }
      ]
    },
    {
      "cell_type": "code",
      "metadata": {
        "id": "EfUrvJR5gbR-"
      },
      "source": [
        "encuesta.rename(columns={\"Unnamed: 0\":\"numero\"}, inplace=True) # la columna es \"Unnamed: 0\"\n",
        "encuesta.rename(columns={\"Marca temporal\":\"fecha\"}, inplace=True) # la columna es \"Unnamed: 0\"\n",
        "encuesta.rename(columns={\"1. Utiliza habitualmente la página web de ATM\":\"P1\"}, inplace=True) # la columna es \"1. Utiliza habitualmente la página web de ATM\"\n",
        "encuesta.rename(columns={\"2. Le resultó simple la creación de su cuenta en Mis Trámites\":\"P2\"}, inplace=True) # la columna es \"Unnamed: 0\"\n",
        "encuesta.rename(columns={\"3. Le resulta comprensible la sección de Mis Trámites\":\"P3\"}, inplace=True) # la columna es \"Unnamed: 0\"\n",
        "encuesta.rename(columns={\"4. El trámite que realizó dentro de Mis Trámites fue resuelto de forma:\":\"P4\"}, inplace=True) # la columna es \"4. El trámite que realizó dentro de Mis Trámites fue resuelto de forma:\"\n",
        "encuesta.rename(columns={\"5. La información brindada por la página web de ATM es:\":\"P5\"}, inplace=True) # la columna es \"Unnamed: 0\"\n",
        "encuesta.rename(columns={\"6. El boleto para pagar el año 2021 lo obtiene por:\":\"P6\"}, inplace=True) # la columna es \"Unnamed: 0\"\n",
        "encuesta.rename(columns={\"Agregue aquí su sugerencia\":\"P7\"}, inplace=True) # la columna es \"Unnamed: 0\""
      ],
      "execution_count": 7,
      "outputs": []
    },
    {
      "cell_type": "code",
      "metadata": {
        "colab": {
          "base_uri": "https://localhost:8080/"
        },
        "id": "jEUIRN0vh811",
        "outputId": "11fa42a6-c91a-4ae7-a3b5-c4b0c497caf9"
      },
      "source": [
        "encuesta.info()"
      ],
      "execution_count": 8,
      "outputs": [
        {
          "output_type": "stream",
          "text": [
            "<class 'pandas.core.frame.DataFrame'>\n",
            "RangeIndex: 2703 entries, 0 to 2702\n",
            "Data columns (total 9 columns):\n",
            " #   Column  Non-Null Count  Dtype \n",
            "---  ------  --------------  ----- \n",
            " 0   numero  2703 non-null   int64 \n",
            " 1   fecha   2703 non-null   object\n",
            " 2   P1      2703 non-null   object\n",
            " 3   P2      2703 non-null   object\n",
            " 4   P3      2703 non-null   object\n",
            " 5   P4      2703 non-null   object\n",
            " 6   P5      2693 non-null   object\n",
            " 7   P6      2703 non-null   object\n",
            " 8   P7      951 non-null    object\n",
            "dtypes: int64(1), object(8)\n",
            "memory usage: 190.2+ KB\n"
          ],
          "name": "stdout"
        }
      ]
    }
  ]
}