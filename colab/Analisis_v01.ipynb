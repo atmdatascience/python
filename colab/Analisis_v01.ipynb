{
  "nbformat": 4,
  "nbformat_minor": 0,
  "metadata": {
    "colab": {
      "name": "Analisis-v01.ipynb",
      "provenance": [],
      "mount_file_id": "1GJKbi_9lT4DuOj-ybxVHkPWhktgyUr33",
      "authorship_tag": "ABX9TyMQs6Rg7I+Y8PVvnXSyjY1S",
      "include_colab_link": true
    },
    "kernelspec": {
      "name": "python3",
      "display_name": "Python 3"
    },
    "language_info": {
      "name": "python"
    }
  },
  "cells": [
    {
      "cell_type": "markdown",
      "metadata": {
        "id": "view-in-github",
        "colab_type": "text"
      },
      "source": [
        "<a href=\"https://colab.research.google.com/github/atmdatascience/python/blob/main/colab/Analisis_v01.ipynb\" target=\"_parent\"><img src=\"https://colab.research.google.com/assets/colab-badge.svg\" alt=\"Open In Colab\"/></a>"
      ]
    },
    {
      "cell_type": "markdown",
      "metadata": {
        "id": "heefb63LkPjT"
      },
      "source": [
        "![Logo-ATM.png](data:image/png;base64,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)"
      ]
    },
    {
      "cell_type": "markdown",
      "metadata": {
        "id": "YnedtPl9j4vn"
      },
      "source": [
        "#Procesamiento del Lenguaje Natural - NLP - Análisis de sentimiento"
      ]
    },
    {
      "cell_type": "markdown",
      "metadata": {
        "id": "yXxyX1s1kaQ2"
      },
      "source": [
        "## Modulos"
      ]
    },
    {
      "cell_type": "code",
      "metadata": {
        "id": "MNDen802cW5W"
      },
      "source": [
        "import pandas as pd\n",
        "import numpy as np"
      ],
      "execution_count": 1,
      "outputs": []
    },
    {
      "cell_type": "markdown",
      "metadata": {
        "id": "-m7wKenVkdyk"
      },
      "source": [
        "## Fuente de datos"
      ]
    },
    {
      "cell_type": "code",
      "metadata": {
        "id": "ckrshETPcvOH"
      },
      "source": [
        "url = \"https://raw.githubusercontent.com/atmdatascience/python/main/datasets/encuestasweb/\""
      ],
      "execution_count": 2,
      "outputs": []
    },
    {
      "cell_type": "code",
      "metadata": {
        "id": "G-Ln0qWGdjVH"
      },
      "source": [
        "archivo = \"Encuestas-2021-Tramite-web.csv\""
      ],
      "execution_count": 3,
      "outputs": []
    },
    {
      "cell_type": "code",
      "metadata": {
        "id": "FdU7JFApCpUw"
      },
      "source": [
        "ingles = \"encuesta.xlsx.csv\""
      ],
      "execution_count": 4,
      "outputs": []
    },
    {
      "cell_type": "markdown",
      "metadata": {
        "id": "KE3LITEjkhPs"
      },
      "source": [
        "## Creación del dataframe"
      ]
    },
    {
      "cell_type": "code",
      "metadata": {
        "id": "22C2xVhzdzI8"
      },
      "source": [
        "encuesta = pd.read_csv(url+archivo)"
      ],
      "execution_count": 5,
      "outputs": []
    },
    {
      "cell_type": "markdown",
      "metadata": {
        "id": "yDkC41M_kpkb"
      },
      "source": [
        "## Visualización del dataframe"
      ]
    },
    {
      "cell_type": "code",
      "metadata": {
        "colab": {
          "base_uri": "https://localhost:8080/",
          "height": 912
        },
        "id": "ft7YSdURd9f4",
        "outputId": "c8a1fc93-64bd-4b10-8850-e2954b128d8f"
      },
      "source": [
        "encuesta"
      ],
      "execution_count": 6,
      "outputs": [
        {
          "output_type": "execute_result",
          "data": {
            "text/html": [
              "<div>\n",
              "<style scoped>\n",
              "    .dataframe tbody tr th:only-of-type {\n",
              "        vertical-align: middle;\n",
              "    }\n",
              "\n",
              "    .dataframe tbody tr th {\n",
              "        vertical-align: top;\n",
              "    }\n",
              "\n",
              "    .dataframe thead th {\n",
              "        text-align: right;\n",
              "    }\n",
              "</style>\n",
              "<table border=\"1\" class=\"dataframe\">\n",
              "  <thead>\n",
              "    <tr style=\"text-align: right;\">\n",
              "      <th></th>\n",
              "      <th>Unnamed: 0</th>\n",
              "      <th>Marca temporal</th>\n",
              "      <th>1. Utiliza habitualmente la página web de ATM</th>\n",
              "      <th>2. Le resultó simple la creación de su cuenta en Mis Trámites</th>\n",
              "      <th>3. Le resulta comprensible la sección de Mis Trámites</th>\n",
              "      <th>4. El trámite que realizó dentro de Mis Trámites fue resuelto de forma:</th>\n",
              "      <th>5. La información brindada por la página web de ATM es:</th>\n",
              "      <th>6. El boleto para pagar el año 2021 lo obtiene por:</th>\n",
              "      <th>Agregue aquí su sugerencia</th>\n",
              "    </tr>\n",
              "  </thead>\n",
              "  <tbody>\n",
              "    <tr>\n",
              "      <th>0</th>\n",
              "      <td>1</td>\n",
              "      <td>3/02/2021 9:49:57</td>\n",
              "      <td>SI</td>\n",
              "      <td>SI</td>\n",
              "      <td>SI</td>\n",
              "      <td>Muy satisfactoria</td>\n",
              "      <td>Muy Buena</td>\n",
              "      <td>Descarga de la página web de ATM</td>\n",
              "      <td>La unica sugerencia, es un poco mas de celerid...</td>\n",
              "    </tr>\n",
              "    <tr>\n",
              "      <th>1</th>\n",
              "      <td>2</td>\n",
              "      <td>3/02/2021 9:54:50</td>\n",
              "      <td>SI</td>\n",
              "      <td>SI</td>\n",
              "      <td>SI</td>\n",
              "      <td>Muy satisfactoria</td>\n",
              "      <td>Buena</td>\n",
              "      <td>Descarga de la página web de ATM</td>\n",
              "      <td>NaN</td>\n",
              "    </tr>\n",
              "    <tr>\n",
              "      <th>2</th>\n",
              "      <td>3</td>\n",
              "      <td>3/02/2021 10:02:35</td>\n",
              "      <td>SI</td>\n",
              "      <td>SI</td>\n",
              "      <td>SI</td>\n",
              "      <td>Satisfactoria</td>\n",
              "      <td>Buena</td>\n",
              "      <td>Descarga de la página web de ATM</td>\n",
              "      <td>NaN</td>\n",
              "    </tr>\n",
              "    <tr>\n",
              "      <th>3</th>\n",
              "      <td>4</td>\n",
              "      <td>3/02/2021 10:11:57</td>\n",
              "      <td>SI</td>\n",
              "      <td>NO</td>\n",
              "      <td>NO</td>\n",
              "      <td>Nada satisfactoria</td>\n",
              "      <td>Mala</td>\n",
              "      <td>Descarga de la página web de ATM</td>\n",
              "      <td>Llevo 90 minutos al teléfono y nadie atiende, ...</td>\n",
              "    </tr>\n",
              "    <tr>\n",
              "      <th>4</th>\n",
              "      <td>5</td>\n",
              "      <td>3/02/2021 10:32:10</td>\n",
              "      <td>SI</td>\n",
              "      <td>SI</td>\n",
              "      <td>SI</td>\n",
              "      <td>Satisfactoria</td>\n",
              "      <td>Buena</td>\n",
              "      <td>Descarga de la página web de ATM</td>\n",
              "      <td>NaN</td>\n",
              "    </tr>\n",
              "    <tr>\n",
              "      <th>...</th>\n",
              "      <td>...</td>\n",
              "      <td>...</td>\n",
              "      <td>...</td>\n",
              "      <td>...</td>\n",
              "      <td>...</td>\n",
              "      <td>...</td>\n",
              "      <td>...</td>\n",
              "      <td>...</td>\n",
              "      <td>...</td>\n",
              "    </tr>\n",
              "    <tr>\n",
              "      <th>2698</th>\n",
              "      <td>2699</td>\n",
              "      <td>10/06/2021 11:24:36</td>\n",
              "      <td>SI</td>\n",
              "      <td>SI</td>\n",
              "      <td>SI</td>\n",
              "      <td>Muy satisfactoria</td>\n",
              "      <td>Muy Buena</td>\n",
              "      <td>Descarga de la página web de ATM</td>\n",
              "      <td>no tengo sugerencias</td>\n",
              "    </tr>\n",
              "    <tr>\n",
              "      <th>2699</th>\n",
              "      <td>2700</td>\n",
              "      <td>10/06/2021 12:48:40</td>\n",
              "      <td>NO</td>\n",
              "      <td>SI</td>\n",
              "      <td>SI</td>\n",
              "      <td>Satisfactoria</td>\n",
              "      <td>Buena</td>\n",
              "      <td>Recepción por correo electrónico</td>\n",
              "      <td>NaN</td>\n",
              "    </tr>\n",
              "    <tr>\n",
              "      <th>2700</th>\n",
              "      <td>2701</td>\n",
              "      <td>10/06/2021 12:52:42</td>\n",
              "      <td>SI</td>\n",
              "      <td>SI</td>\n",
              "      <td>SI</td>\n",
              "      <td>Satisfactoria</td>\n",
              "      <td>Buena</td>\n",
              "      <td>Descarga de la página web de ATM</td>\n",
              "      <td>Debería tener una forma de acceder a Resolucio...</td>\n",
              "    </tr>\n",
              "    <tr>\n",
              "      <th>2701</th>\n",
              "      <td>2702</td>\n",
              "      <td>10/06/2021 13:13:35</td>\n",
              "      <td>SI</td>\n",
              "      <td>SI</td>\n",
              "      <td>SI</td>\n",
              "      <td>Satisfactoria</td>\n",
              "      <td>Buena</td>\n",
              "      <td>Descarga de la página web de ATM</td>\n",
              "      <td>NaN</td>\n",
              "    </tr>\n",
              "    <tr>\n",
              "      <th>2702</th>\n",
              "      <td>2703</td>\n",
              "      <td>10/06/2021 13:58:52</td>\n",
              "      <td>SI</td>\n",
              "      <td>SI</td>\n",
              "      <td>SI</td>\n",
              "      <td>Satisfactoria</td>\n",
              "      <td>Buena</td>\n",
              "      <td>Descarga de la página web de ATM</td>\n",
              "      <td>NaN</td>\n",
              "    </tr>\n",
              "  </tbody>\n",
              "</table>\n",
              "<p>2703 rows × 9 columns</p>\n",
              "</div>"
            ],
            "text/plain": [
              "      Unnamed: 0  ...                         Agregue aquí su sugerencia\n",
              "0              1  ...  La unica sugerencia, es un poco mas de celerid...\n",
              "1              2  ...                                                NaN\n",
              "2              3  ...                                                NaN\n",
              "3              4  ...  Llevo 90 minutos al teléfono y nadie atiende, ...\n",
              "4              5  ...                                                NaN\n",
              "...          ...  ...                                                ...\n",
              "2698        2699  ...                               no tengo sugerencias\n",
              "2699        2700  ...                                                NaN\n",
              "2700        2701  ...  Debería tener una forma de acceder a Resolucio...\n",
              "2701        2702  ...                                                NaN\n",
              "2702        2703  ...                                                NaN\n",
              "\n",
              "[2703 rows x 9 columns]"
            ]
          },
          "metadata": {
            "tags": []
          },
          "execution_count": 6
        }
      ]
    },
    {
      "cell_type": "code",
      "metadata": {
        "colab": {
          "base_uri": "https://localhost:8080/"
        },
        "id": "8U25969weIJi",
        "outputId": "243df4ab-8fc7-4510-f7c0-5d5dd9b86034"
      },
      "source": [
        "encuesta.info()"
      ],
      "execution_count": 7,
      "outputs": [
        {
          "output_type": "stream",
          "text": [
            "<class 'pandas.core.frame.DataFrame'>\n",
            "RangeIndex: 2703 entries, 0 to 2702\n",
            "Data columns (total 9 columns):\n",
            " #   Column                                                                   Non-Null Count  Dtype \n",
            "---  ------                                                                   --------------  ----- \n",
            " 0   Unnamed: 0                                                               2703 non-null   int64 \n",
            " 1   Marca temporal                                                           2703 non-null   object\n",
            " 2   1. Utiliza habitualmente la página web de ATM                            2703 non-null   object\n",
            " 3   2. Le resultó simple la creación de su cuenta en Mis Trámites            2703 non-null   object\n",
            " 4   3. Le resulta comprensible la sección de Mis Trámites                    2703 non-null   object\n",
            " 5   4. El trámite que realizó dentro de Mis Trámites fue resuelto de forma:  2703 non-null   object\n",
            " 6   5. La información brindada por la página web de ATM es:                  2693 non-null   object\n",
            " 7   6. El boleto para pagar el año 2021 lo obtiene por:                      2703 non-null   object\n",
            " 8   Agregue aquí su sugerencia                                               951 non-null    object\n",
            "dtypes: int64(1), object(8)\n",
            "memory usage: 190.2+ KB\n"
          ],
          "name": "stdout"
        }
      ]
    },
    {
      "cell_type": "markdown",
      "metadata": {
        "id": "Smj1nf-ikyKQ"
      },
      "source": [
        "## Limpieza y transformación de datos"
      ]
    },
    {
      "cell_type": "code",
      "metadata": {
        "id": "EfUrvJR5gbR-"
      },
      "source": [
        "encuesta.rename(columns={\"Unnamed: 0\":\"numero\"}, inplace=True) # \"Unnamed: 0\"\n",
        "encuesta.rename(columns={\"Marca temporal\":\"fecha\"}, inplace=True) # \"Marca temporal\"\n",
        "encuesta.rename(columns={\"1. Utiliza habitualmente la página web de ATM\":\"P1\"}, inplace=True) # \"1. Utiliza habitualmente la página web de ATM\"\n",
        "encuesta.rename(columns={\"2. Le resultó simple la creación de su cuenta en Mis Trámites\":\"P2\"}, inplace=True) # \"2. Le resultó simple la creación de su cuenta en Mis Trámites\"\"\n",
        "encuesta.rename(columns={\"3. Le resulta comprensible la sección de Mis Trámites\":\"P3\"}, inplace=True) # \"3. Le resulta comprensible la sección de Mis Trámites\"\n",
        "encuesta.rename(columns={\"4. El trámite que realizó dentro de Mis Trámites fue resuelto de forma:\":\"P4\"}, inplace=True) # \"4. El trámite que realizó dentro de Mis Trámites fue resuelto de forma:\"\n",
        "encuesta.rename(columns={\"5. La información brindada por la página web de ATM es:\":\"P5\"}, inplace=True) # \"5. La información brindada por la página web de ATM es:\"\n",
        "encuesta.rename(columns={\"6. El boleto para pagar el año 2021 lo obtiene por:\":\"P6\"}, inplace=True) # \"6. El boleto para pagar el año 2021 lo obtiene por:\"\n",
        "encuesta.rename(columns={\"Agregue aquí su sugerencia\":\"P7\"}, inplace=True) # \"Agregue aquí su sugerencia\""
      ],
      "execution_count": 8,
      "outputs": []
    },
    {
      "cell_type": "code",
      "metadata": {
        "colab": {
          "base_uri": "https://localhost:8080/"
        },
        "id": "jEUIRN0vh811",
        "outputId": "b9420928-2bd5-44d8-abb6-e5e765827e8f"
      },
      "source": [
        "encuesta.info()"
      ],
      "execution_count": 9,
      "outputs": [
        {
          "output_type": "stream",
          "text": [
            "<class 'pandas.core.frame.DataFrame'>\n",
            "RangeIndex: 2703 entries, 0 to 2702\n",
            "Data columns (total 9 columns):\n",
            " #   Column  Non-Null Count  Dtype \n",
            "---  ------  --------------  ----- \n",
            " 0   numero  2703 non-null   int64 \n",
            " 1   fecha   2703 non-null   object\n",
            " 2   P1      2703 non-null   object\n",
            " 3   P2      2703 non-null   object\n",
            " 4   P3      2703 non-null   object\n",
            " 5   P4      2703 non-null   object\n",
            " 6   P5      2693 non-null   object\n",
            " 7   P6      2703 non-null   object\n",
            " 8   P7      951 non-null    object\n",
            "dtypes: int64(1), object(8)\n",
            "memory usage: 190.2+ KB\n"
          ],
          "name": "stdout"
        }
      ]
    },
    {
      "cell_type": "markdown",
      "metadata": {
        "id": "XuNoepMJI9Sq"
      },
      "source": [
        "## Clonando el dataframe"
      ]
    },
    {
      "cell_type": "markdown",
      "metadata": {
        "id": "NJK58reEJdJK"
      },
      "source": [
        "Vamos a clonar el dataframe para luego dejar solo la columna que nos interesa que es la que contiene las encuestas.."
      ]
    },
    {
      "cell_type": "code",
      "metadata": {
        "id": "LDrkRgK1JJbH"
      },
      "source": [
        "texto = encuesta.copy(deep=False)"
      ],
      "execution_count": 10,
      "outputs": []
    },
    {
      "cell_type": "code",
      "metadata": {
        "id": "1NOapUp1JgTt"
      },
      "source": [
        "texto = texto.drop(columns=[\"numero\",\"fecha\",\"P1\",\"P2\",\"P3\",\"P4\",\"P5\",\"P6\"], axis=1)"
      ],
      "execution_count": 11,
      "outputs": []
    },
    {
      "cell_type": "code",
      "metadata": {
        "id": "ztANEnkQJ73y"
      },
      "source": [
        "texto = texto.dropna(how=\"any\")"
      ],
      "execution_count": 12,
      "outputs": []
    },
    {
      "cell_type": "code",
      "metadata": {
        "colab": {
          "base_uri": "https://localhost:8080/",
          "height": 419
        },
        "id": "wUeEUgGpRBRJ",
        "outputId": "d84f426b-d089-4a06-cd6d-2ee81189f63d"
      },
      "source": [
        "texto = texto.reset_index()\n",
        "texto"
      ],
      "execution_count": 13,
      "outputs": [
        {
          "output_type": "execute_result",
          "data": {
            "text/html": [
              "<div>\n",
              "<style scoped>\n",
              "    .dataframe tbody tr th:only-of-type {\n",
              "        vertical-align: middle;\n",
              "    }\n",
              "\n",
              "    .dataframe tbody tr th {\n",
              "        vertical-align: top;\n",
              "    }\n",
              "\n",
              "    .dataframe thead th {\n",
              "        text-align: right;\n",
              "    }\n",
              "</style>\n",
              "<table border=\"1\" class=\"dataframe\">\n",
              "  <thead>\n",
              "    <tr style=\"text-align: right;\">\n",
              "      <th></th>\n",
              "      <th>index</th>\n",
              "      <th>P7</th>\n",
              "    </tr>\n",
              "  </thead>\n",
              "  <tbody>\n",
              "    <tr>\n",
              "      <th>0</th>\n",
              "      <td>0</td>\n",
              "      <td>La unica sugerencia, es un poco mas de celerid...</td>\n",
              "    </tr>\n",
              "    <tr>\n",
              "      <th>1</th>\n",
              "      <td>3</td>\n",
              "      <td>Llevo 90 minutos al teléfono y nadie atiende, ...</td>\n",
              "    </tr>\n",
              "    <tr>\n",
              "      <th>2</th>\n",
              "      <td>8</td>\n",
              "      <td>ES IMPOSIBLE COMUNICARSE CON USTEDES Y RESOLVE...</td>\n",
              "    </tr>\n",
              "    <tr>\n",
              "      <th>3</th>\n",
              "      <td>15</td>\n",
              "      <td>Nunca atienden en el 148 ni contestan de maner...</td>\n",
              "    </tr>\n",
              "    <tr>\n",
              "      <th>4</th>\n",
              "      <td>18</td>\n",
              "      <td>Mejorar tiempos de respuesta de los trámites s...</td>\n",
              "    </tr>\n",
              "    <tr>\n",
              "      <th>...</th>\n",
              "      <td>...</td>\n",
              "      <td>...</td>\n",
              "    </tr>\n",
              "    <tr>\n",
              "      <th>946</th>\n",
              "      <td>2691</td>\n",
              "      <td>El pago del impuesto inmobiliario no coincide ...</td>\n",
              "    </tr>\n",
              "    <tr>\n",
              "      <th>947</th>\n",
              "      <td>2694</td>\n",
              "      <td>Deberían referirse  a formularios e informes c...</td>\n",
              "    </tr>\n",
              "    <tr>\n",
              "      <th>948</th>\n",
              "      <td>2696</td>\n",
              "      <td>Que se puedan descargar las constancias de ATM...</td>\n",
              "    </tr>\n",
              "    <tr>\n",
              "      <th>949</th>\n",
              "      <td>2698</td>\n",
              "      <td>no tengo sugerencias</td>\n",
              "    </tr>\n",
              "    <tr>\n",
              "      <th>950</th>\n",
              "      <td>2700</td>\n",
              "      <td>Debería tener una forma de acceder a Resolucio...</td>\n",
              "    </tr>\n",
              "  </tbody>\n",
              "</table>\n",
              "<p>951 rows × 2 columns</p>\n",
              "</div>"
            ],
            "text/plain": [
              "     index                                                 P7\n",
              "0        0  La unica sugerencia, es un poco mas de celerid...\n",
              "1        3  Llevo 90 minutos al teléfono y nadie atiende, ...\n",
              "2        8  ES IMPOSIBLE COMUNICARSE CON USTEDES Y RESOLVE...\n",
              "3       15  Nunca atienden en el 148 ni contestan de maner...\n",
              "4       18  Mejorar tiempos de respuesta de los trámites s...\n",
              "..     ...                                                ...\n",
              "946   2691  El pago del impuesto inmobiliario no coincide ...\n",
              "947   2694  Deberían referirse  a formularios e informes c...\n",
              "948   2696  Que se puedan descargar las constancias de ATM...\n",
              "949   2698                               no tengo sugerencias\n",
              "950   2700  Debería tener una forma de acceder a Resolucio...\n",
              "\n",
              "[951 rows x 2 columns]"
            ]
          },
          "metadata": {
            "tags": []
          },
          "execution_count": 13
        }
      ]
    },
    {
      "cell_type": "code",
      "metadata": {
        "colab": {
          "base_uri": "https://localhost:8080/",
          "height": 419
        },
        "id": "Hmh8pG_-a9jU",
        "outputId": "2c3586cd-3d2d-417f-865e-742ec8ab14b9"
      },
      "source": [
        "texto = texto.drop(columns=[\"index\"], axis=1)\n",
        "texto"
      ],
      "execution_count": 14,
      "outputs": [
        {
          "output_type": "execute_result",
          "data": {
            "text/html": [
              "<div>\n",
              "<style scoped>\n",
              "    .dataframe tbody tr th:only-of-type {\n",
              "        vertical-align: middle;\n",
              "    }\n",
              "\n",
              "    .dataframe tbody tr th {\n",
              "        vertical-align: top;\n",
              "    }\n",
              "\n",
              "    .dataframe thead th {\n",
              "        text-align: right;\n",
              "    }\n",
              "</style>\n",
              "<table border=\"1\" class=\"dataframe\">\n",
              "  <thead>\n",
              "    <tr style=\"text-align: right;\">\n",
              "      <th></th>\n",
              "      <th>P7</th>\n",
              "    </tr>\n",
              "  </thead>\n",
              "  <tbody>\n",
              "    <tr>\n",
              "      <th>0</th>\n",
              "      <td>La unica sugerencia, es un poco mas de celerid...</td>\n",
              "    </tr>\n",
              "    <tr>\n",
              "      <th>1</th>\n",
              "      <td>Llevo 90 minutos al teléfono y nadie atiende, ...</td>\n",
              "    </tr>\n",
              "    <tr>\n",
              "      <th>2</th>\n",
              "      <td>ES IMPOSIBLE COMUNICARSE CON USTEDES Y RESOLVE...</td>\n",
              "    </tr>\n",
              "    <tr>\n",
              "      <th>3</th>\n",
              "      <td>Nunca atienden en el 148 ni contestan de maner...</td>\n",
              "    </tr>\n",
              "    <tr>\n",
              "      <th>4</th>\n",
              "      <td>Mejorar tiempos de respuesta de los trámites s...</td>\n",
              "    </tr>\n",
              "    <tr>\n",
              "      <th>...</th>\n",
              "      <td>...</td>\n",
              "    </tr>\n",
              "    <tr>\n",
              "      <th>946</th>\n",
              "      <td>El pago del impuesto inmobiliario no coincide ...</td>\n",
              "    </tr>\n",
              "    <tr>\n",
              "      <th>947</th>\n",
              "      <td>Deberían referirse  a formularios e informes c...</td>\n",
              "    </tr>\n",
              "    <tr>\n",
              "      <th>948</th>\n",
              "      <td>Que se puedan descargar las constancias de ATM...</td>\n",
              "    </tr>\n",
              "    <tr>\n",
              "      <th>949</th>\n",
              "      <td>no tengo sugerencias</td>\n",
              "    </tr>\n",
              "    <tr>\n",
              "      <th>950</th>\n",
              "      <td>Debería tener una forma de acceder a Resolucio...</td>\n",
              "    </tr>\n",
              "  </tbody>\n",
              "</table>\n",
              "<p>951 rows × 1 columns</p>\n",
              "</div>"
            ],
            "text/plain": [
              "                                                    P7\n",
              "0    La unica sugerencia, es un poco mas de celerid...\n",
              "1    Llevo 90 minutos al teléfono y nadie atiende, ...\n",
              "2    ES IMPOSIBLE COMUNICARSE CON USTEDES Y RESOLVE...\n",
              "3    Nunca atienden en el 148 ni contestan de maner...\n",
              "4    Mejorar tiempos de respuesta de los trámites s...\n",
              "..                                                 ...\n",
              "946  El pago del impuesto inmobiliario no coincide ...\n",
              "947  Deberían referirse  a formularios e informes c...\n",
              "948  Que se puedan descargar las constancias de ATM...\n",
              "949                               no tengo sugerencias\n",
              "950  Debería tener una forma de acceder a Resolucio...\n",
              "\n",
              "[951 rows x 1 columns]"
            ]
          },
          "metadata": {
            "tags": []
          },
          "execution_count": 14
        }
      ]
    },
    {
      "cell_type": "markdown",
      "metadata": {
        "id": "p0SicSW8AybQ"
      },
      "source": [
        "## Convirtiendo el texto en minuscula"
      ]
    },
    {
      "cell_type": "code",
      "metadata": {
        "colab": {
          "base_uri": "https://localhost:8080/",
          "height": 419
        },
        "id": "dnoMW-o2A2Er",
        "outputId": "5948ec0b-fdcd-4bac-a335-8618d6cea370"
      },
      "source": [
        "texto.P7 = texto.P7.astype(str).str.lower()\n",
        "texto"
      ],
      "execution_count": 15,
      "outputs": [
        {
          "output_type": "execute_result",
          "data": {
            "text/html": [
              "<div>\n",
              "<style scoped>\n",
              "    .dataframe tbody tr th:only-of-type {\n",
              "        vertical-align: middle;\n",
              "    }\n",
              "\n",
              "    .dataframe tbody tr th {\n",
              "        vertical-align: top;\n",
              "    }\n",
              "\n",
              "    .dataframe thead th {\n",
              "        text-align: right;\n",
              "    }\n",
              "</style>\n",
              "<table border=\"1\" class=\"dataframe\">\n",
              "  <thead>\n",
              "    <tr style=\"text-align: right;\">\n",
              "      <th></th>\n",
              "      <th>P7</th>\n",
              "    </tr>\n",
              "  </thead>\n",
              "  <tbody>\n",
              "    <tr>\n",
              "      <th>0</th>\n",
              "      <td>la unica sugerencia, es un poco mas de celerid...</td>\n",
              "    </tr>\n",
              "    <tr>\n",
              "      <th>1</th>\n",
              "      <td>llevo 90 minutos al teléfono y nadie atiende, ...</td>\n",
              "    </tr>\n",
              "    <tr>\n",
              "      <th>2</th>\n",
              "      <td>es imposible comunicarse con ustedes y resolve...</td>\n",
              "    </tr>\n",
              "    <tr>\n",
              "      <th>3</th>\n",
              "      <td>nunca atienden en el 148 ni contestan de maner...</td>\n",
              "    </tr>\n",
              "    <tr>\n",
              "      <th>4</th>\n",
              "      <td>mejorar tiempos de respuesta de los trámites s...</td>\n",
              "    </tr>\n",
              "    <tr>\n",
              "      <th>...</th>\n",
              "      <td>...</td>\n",
              "    </tr>\n",
              "    <tr>\n",
              "      <th>946</th>\n",
              "      <td>el pago del impuesto inmobiliario no coincide ...</td>\n",
              "    </tr>\n",
              "    <tr>\n",
              "      <th>947</th>\n",
              "      <td>deberían referirse  a formularios e informes c...</td>\n",
              "    </tr>\n",
              "    <tr>\n",
              "      <th>948</th>\n",
              "      <td>que se puedan descargar las constancias de atm...</td>\n",
              "    </tr>\n",
              "    <tr>\n",
              "      <th>949</th>\n",
              "      <td>no tengo sugerencias</td>\n",
              "    </tr>\n",
              "    <tr>\n",
              "      <th>950</th>\n",
              "      <td>debería tener una forma de acceder a resolucio...</td>\n",
              "    </tr>\n",
              "  </tbody>\n",
              "</table>\n",
              "<p>951 rows × 1 columns</p>\n",
              "</div>"
            ],
            "text/plain": [
              "                                                    P7\n",
              "0    la unica sugerencia, es un poco mas de celerid...\n",
              "1    llevo 90 minutos al teléfono y nadie atiende, ...\n",
              "2    es imposible comunicarse con ustedes y resolve...\n",
              "3    nunca atienden en el 148 ni contestan de maner...\n",
              "4    mejorar tiempos de respuesta de los trámites s...\n",
              "..                                                 ...\n",
              "946  el pago del impuesto inmobiliario no coincide ...\n",
              "947  deberían referirse  a formularios e informes c...\n",
              "948  que se puedan descargar las constancias de atm...\n",
              "949                               no tengo sugerencias\n",
              "950  debería tener una forma de acceder a resolucio...\n",
              "\n",
              "[951 rows x 1 columns]"
            ]
          },
          "metadata": {
            "tags": []
          },
          "execution_count": 15
        }
      ]
    },
    {
      "cell_type": "markdown",
      "metadata": {
        "id": "Azw5yhrEA3Ql"
      },
      "source": [
        "## Eliminando acentos y simbolos de puntuación"
      ]
    },
    {
      "cell_type": "code",
      "metadata": {
        "colab": {
          "base_uri": "https://localhost:8080/",
          "height": 419
        },
        "id": "onjaVQYHA7mm",
        "outputId": "27b06056-93ff-4a5a-d737-9eac0b9b6aef"
      },
      "source": [
        "texto.P7 = texto.P7.astype(str).str.replace(\"á\",\"a\")\n",
        "texto.P7 = texto.P7.astype(str).str.replace(\"é\",\"e\")\n",
        "texto.P7 = texto.P7.astype(str).str.replace(\"í\",\"i\")\n",
        "texto.P7 = texto.P7.astype(str).str.replace(\"ó\",\"o\")\n",
        "texto.P7 = texto.P7.astype(str).str.replace(\"ú\",\"u\")\n",
        "texto.P7 = texto.P7.astype(str).str.replace(\"ü\",\"u\")\n",
        "texto.P7 = texto.P7.astype(str).str.replace(\",\",\"\")\n",
        "texto.P7 = texto.P7.astype(str).str.replace(\";\",\"\")\n",
        "texto.P7 = texto.P7.astype(str).str.replace(\":\",\"\")\n",
        "texto.P7 = texto.P7.astype(str).str.replace(\".\",\"\")\n",
        "texto.P7 = texto.P7.astype(str).str.replace(\"!\",\"\")\n",
        "texto.P7 = texto.P7.astype(str).str.replace(\"(\",\"\")\n",
        "texto.P7 = texto.P7.astype(str).str.replace(\")\",\"\")\n",
        "texto.P7 = texto.P7.astype(str).str.replace('\"',\"\")\n",
        "texto"
      ],
      "execution_count": 16,
      "outputs": [
        {
          "output_type": "execute_result",
          "data": {
            "text/html": [
              "<div>\n",
              "<style scoped>\n",
              "    .dataframe tbody tr th:only-of-type {\n",
              "        vertical-align: middle;\n",
              "    }\n",
              "\n",
              "    .dataframe tbody tr th {\n",
              "        vertical-align: top;\n",
              "    }\n",
              "\n",
              "    .dataframe thead th {\n",
              "        text-align: right;\n",
              "    }\n",
              "</style>\n",
              "<table border=\"1\" class=\"dataframe\">\n",
              "  <thead>\n",
              "    <tr style=\"text-align: right;\">\n",
              "      <th></th>\n",
              "      <th>P7</th>\n",
              "    </tr>\n",
              "  </thead>\n",
              "  <tbody>\n",
              "    <tr>\n",
              "      <th>0</th>\n",
              "      <td>la unica sugerencia es un poco mas de celerida...</td>\n",
              "    </tr>\n",
              "    <tr>\n",
              "      <th>1</th>\n",
              "      <td>llevo 90 minutos al telefono y nadie atiende p...</td>\n",
              "    </tr>\n",
              "    <tr>\n",
              "      <th>2</th>\n",
              "      <td>es imposible comunicarse con ustedes y resolve...</td>\n",
              "    </tr>\n",
              "    <tr>\n",
              "      <th>3</th>\n",
              "      <td>nunca atienden en el 148 ni contestan de maner...</td>\n",
              "    </tr>\n",
              "    <tr>\n",
              "      <th>4</th>\n",
              "      <td>mejorar tiempos de respuesta de los tramites s...</td>\n",
              "    </tr>\n",
              "    <tr>\n",
              "      <th>...</th>\n",
              "      <td>...</td>\n",
              "    </tr>\n",
              "    <tr>\n",
              "      <th>946</th>\n",
              "      <td>el pago del impuesto inmobiliario no coincide ...</td>\n",
              "    </tr>\n",
              "    <tr>\n",
              "      <th>947</th>\n",
              "      <td>deberian referirse  a formularios e informes c...</td>\n",
              "    </tr>\n",
              "    <tr>\n",
              "      <th>948</th>\n",
              "      <td>que se puedan descargar las constancias de atm...</td>\n",
              "    </tr>\n",
              "    <tr>\n",
              "      <th>949</th>\n",
              "      <td>no tengo sugerencias</td>\n",
              "    </tr>\n",
              "    <tr>\n",
              "      <th>950</th>\n",
              "      <td>deberia tener una forma de acceder a resolucio...</td>\n",
              "    </tr>\n",
              "  </tbody>\n",
              "</table>\n",
              "<p>951 rows × 1 columns</p>\n",
              "</div>"
            ],
            "text/plain": [
              "                                                    P7\n",
              "0    la unica sugerencia es un poco mas de celerida...\n",
              "1    llevo 90 minutos al telefono y nadie atiende p...\n",
              "2    es imposible comunicarse con ustedes y resolve...\n",
              "3    nunca atienden en el 148 ni contestan de maner...\n",
              "4    mejorar tiempos de respuesta de los tramites s...\n",
              "..                                                 ...\n",
              "946  el pago del impuesto inmobiliario no coincide ...\n",
              "947  deberian referirse  a formularios e informes c...\n",
              "948  que se puedan descargar las constancias de atm...\n",
              "949                               no tengo sugerencias\n",
              "950  deberia tener una forma de acceder a resolucio...\n",
              "\n",
              "[951 rows x 1 columns]"
            ]
          },
          "metadata": {
            "tags": []
          },
          "execution_count": 16
        }
      ]
    },
    {
      "cell_type": "markdown",
      "metadata": {
        "id": "m4KNVrKTB4de"
      },
      "source": [
        "## Traduccion al Ingles"
      ]
    },
    {
      "cell_type": "code",
      "metadata": {
        "id": "GttoBf_OB9rz"
      },
      "source": [
        "texto.to_excel(\"/content/drive/MyDrive/encuesta.xlsx\")"
      ],
      "execution_count": 17,
      "outputs": []
    },
    {
      "cell_type": "code",
      "metadata": {
        "colab": {
          "base_uri": "https://localhost:8080/",
          "height": 419
        },
        "id": "_oILGHRCCC_i",
        "outputId": "eb321587-e260-4080-f54c-4e320e59791f"
      },
      "source": [
        "textoingles = pd.read_csv(url+ingles)\n",
        "textoingles"
      ],
      "execution_count": 18,
      "outputs": [
        {
          "output_type": "execute_result",
          "data": {
            "text/html": [
              "<div>\n",
              "<style scoped>\n",
              "    .dataframe tbody tr th:only-of-type {\n",
              "        vertical-align: middle;\n",
              "    }\n",
              "\n",
              "    .dataframe tbody tr th {\n",
              "        vertical-align: top;\n",
              "    }\n",
              "\n",
              "    .dataframe thead th {\n",
              "        text-align: right;\n",
              "    }\n",
              "</style>\n",
              "<table border=\"1\" class=\"dataframe\">\n",
              "  <thead>\n",
              "    <tr style=\"text-align: right;\">\n",
              "      <th></th>\n",
              "      <th>P7</th>\n",
              "      <th>ingles</th>\n",
              "    </tr>\n",
              "  </thead>\n",
              "  <tbody>\n",
              "    <tr>\n",
              "      <th>0</th>\n",
              "      <td>la unica sugerencia es un poco mas de celerida...</td>\n",
              "      <td>The only suggestion is a bit more celerity in ...</td>\n",
              "    </tr>\n",
              "    <tr>\n",
              "      <th>1</th>\n",
              "      <td>llevo 90 minutos al telefono y nadie atiende p...</td>\n",
              "      <td>I have 90 minutes to the phone and nobody atte...</td>\n",
              "    </tr>\n",
              "    <tr>\n",
              "      <th>2</th>\n",
              "      <td>es imposible comunicarse con ustedes y resolve...</td>\n",
              "      <td>It is impossible to communicate with you and s...</td>\n",
              "    </tr>\n",
              "    <tr>\n",
              "      <th>3</th>\n",
              "      <td>nunca atienden en el 148 ni contestan de maner...</td>\n",
              "      <td>They never attend at 148 or quickly answer ele...</td>\n",
              "    </tr>\n",
              "    <tr>\n",
              "      <th>4</th>\n",
              "      <td>mejorar tiempos de respuesta de los tramites s...</td>\n",
              "      <td>Improve times of response from the requested p...</td>\n",
              "    </tr>\n",
              "    <tr>\n",
              "      <th>...</th>\n",
              "      <td>...</td>\n",
              "      <td>...</td>\n",
              "    </tr>\n",
              "    <tr>\n",
              "      <th>939</th>\n",
              "      <td>el pago del impuesto inmobiliario no coincide ...</td>\n",
              "      <td>The payment of the real estate tax does not ma...</td>\n",
              "    </tr>\n",
              "    <tr>\n",
              "      <th>940</th>\n",
              "      <td>deberian referirse  a formularios e informes c...</td>\n",
              "      <td>They should refer to forms and reports with th...</td>\n",
              "    </tr>\n",
              "    <tr>\n",
              "      <th>941</th>\n",
              "      <td>que se puedan descargar las constancias de atm...</td>\n",
              "      <td>that the ATM records can be downloaded without...</td>\n",
              "    </tr>\n",
              "    <tr>\n",
              "      <th>942</th>\n",
              "      <td>no tengo sugerencias</td>\n",
              "      <td>I do not have suggestions</td>\n",
              "    </tr>\n",
              "    <tr>\n",
              "      <th>943</th>\n",
              "      <td>deberia tener una forma de acceder a resolucio...</td>\n",
              "      <td>It should have a way to access ATM resolutions...</td>\n",
              "    </tr>\n",
              "  </tbody>\n",
              "</table>\n",
              "<p>944 rows × 2 columns</p>\n",
              "</div>"
            ],
            "text/plain": [
              "                                                    P7                                             ingles\n",
              "0    la unica sugerencia es un poco mas de celerida...  The only suggestion is a bit more celerity in ...\n",
              "1    llevo 90 minutos al telefono y nadie atiende p...  I have 90 minutes to the phone and nobody atte...\n",
              "2    es imposible comunicarse con ustedes y resolve...  It is impossible to communicate with you and s...\n",
              "3    nunca atienden en el 148 ni contestan de maner...  They never attend at 148 or quickly answer ele...\n",
              "4    mejorar tiempos de respuesta de los tramites s...  Improve times of response from the requested p...\n",
              "..                                                 ...                                                ...\n",
              "939  el pago del impuesto inmobiliario no coincide ...  The payment of the real estate tax does not ma...\n",
              "940  deberian referirse  a formularios e informes c...  They should refer to forms and reports with th...\n",
              "941  que se puedan descargar las constancias de atm...  that the ATM records can be downloaded without...\n",
              "942                               no tengo sugerencias                          I do not have suggestions\n",
              "943  deberia tener una forma de acceder a resolucio...  It should have a way to access ATM resolutions...\n",
              "\n",
              "[944 rows x 2 columns]"
            ]
          },
          "metadata": {
            "tags": []
          },
          "execution_count": 18
        }
      ]
    },
    {
      "cell_type": "markdown",
      "metadata": {
        "id": "faV9z1r8E627"
      },
      "source": [
        "## Modulo bloques de texto"
      ]
    },
    {
      "cell_type": "code",
      "metadata": {
        "id": "ztuTdirrb04v"
      },
      "source": [
        "import textblob as tb"
      ],
      "execution_count": 19,
      "outputs": []
    },
    {
      "cell_type": "code",
      "metadata": {
        "id": "BCP4wEgSc09a"
      },
      "source": [
        "from textblob import TextBlob"
      ],
      "execution_count": 20,
      "outputs": []
    },
    {
      "cell_type": "markdown",
      "metadata": {
        "id": "E9sZVDoRFWHV"
      },
      "source": [
        "## Modulo expresiones regulares"
      ]
    },
    {
      "cell_type": "code",
      "metadata": {
        "id": "5rsBYKWwFaox"
      },
      "source": [
        "import re"
      ],
      "execution_count": 21,
      "outputs": []
    },
    {
      "cell_type": "markdown",
      "metadata": {
        "id": "tt1uL1X4PLFN"
      },
      "source": [
        "## Función análisis de sentimiento"
      ]
    },
    {
      "cell_type": "code",
      "metadata": {
        "id": "34d9K1ByPQBR"
      },
      "source": [
        "def obtener_sentimentiento(dataframe, columna):\n",
        "    texto_columna = dataframe[columna]\n",
        "    bloques_sentimiento = texto_columna.apply(TextBlob)\n",
        "    valores_sentimiento = [{\"Polaridad\": v.sentiment.polarity,\"Subjectividad\": v.sentiment.subjectivity}\n",
        "        for v in bloques_sentimiento.values]\n",
        "    return pd.DataFrame(valores_sentimiento)"
      ],
      "execution_count": 22,
      "outputs": []
    },
    {
      "cell_type": "code",
      "metadata": {
        "id": "bS18LAf0PKae"
      },
      "source": [
        "sentimiento = obtener_sentimentiento(textoingles,\"ingles\")"
      ],
      "execution_count": 23,
      "outputs": []
    },
    {
      "cell_type": "code",
      "metadata": {
        "colab": {
          "base_uri": "https://localhost:8080/",
          "height": 419
        },
        "id": "kvj04pNERVX7",
        "outputId": "bf88ea3d-7b0d-4869-827f-97aa929c9d7f"
      },
      "source": [
        "sentimiento"
      ],
      "execution_count": 24,
      "outputs": [
        {
          "output_type": "execute_result",
          "data": {
            "text/html": [
              "<div>\n",
              "<style scoped>\n",
              "    .dataframe tbody tr th:only-of-type {\n",
              "        vertical-align: middle;\n",
              "    }\n",
              "\n",
              "    .dataframe tbody tr th {\n",
              "        vertical-align: top;\n",
              "    }\n",
              "\n",
              "    .dataframe thead th {\n",
              "        text-align: right;\n",
              "    }\n",
              "</style>\n",
              "<table border=\"1\" class=\"dataframe\">\n",
              "  <thead>\n",
              "    <tr style=\"text-align: right;\">\n",
              "      <th></th>\n",
              "      <th>Polaridad</th>\n",
              "      <th>Subjectividad</th>\n",
              "    </tr>\n",
              "  </thead>\n",
              "  <tbody>\n",
              "    <tr>\n",
              "      <th>0</th>\n",
              "      <td>0.250000</td>\n",
              "      <td>0.750</td>\n",
              "    </tr>\n",
              "    <tr>\n",
              "      <th>1</th>\n",
              "      <td>0.000000</td>\n",
              "      <td>0.000</td>\n",
              "    </tr>\n",
              "    <tr>\n",
              "      <th>2</th>\n",
              "      <td>-0.666667</td>\n",
              "      <td>1.000</td>\n",
              "    </tr>\n",
              "    <tr>\n",
              "      <th>3</th>\n",
              "      <td>0.333333</td>\n",
              "      <td>0.500</td>\n",
              "    </tr>\n",
              "    <tr>\n",
              "      <th>4</th>\n",
              "      <td>0.000000</td>\n",
              "      <td>0.000</td>\n",
              "    </tr>\n",
              "    <tr>\n",
              "      <th>...</th>\n",
              "      <td>...</td>\n",
              "      <td>...</td>\n",
              "    </tr>\n",
              "    <tr>\n",
              "      <th>939</th>\n",
              "      <td>0.100000</td>\n",
              "      <td>0.200</td>\n",
              "    </tr>\n",
              "    <tr>\n",
              "      <th>940</th>\n",
              "      <td>-0.500000</td>\n",
              "      <td>1.000</td>\n",
              "    </tr>\n",
              "    <tr>\n",
              "      <th>941</th>\n",
              "      <td>0.000000</td>\n",
              "      <td>1.000</td>\n",
              "    </tr>\n",
              "    <tr>\n",
              "      <th>942</th>\n",
              "      <td>0.000000</td>\n",
              "      <td>0.000</td>\n",
              "    </tr>\n",
              "    <tr>\n",
              "      <th>943</th>\n",
              "      <td>0.175000</td>\n",
              "      <td>0.295</td>\n",
              "    </tr>\n",
              "  </tbody>\n",
              "</table>\n",
              "<p>944 rows × 2 columns</p>\n",
              "</div>"
            ],
            "text/plain": [
              "     Polaridad  Subjectividad\n",
              "0     0.250000          0.750\n",
              "1     0.000000          0.000\n",
              "2    -0.666667          1.000\n",
              "3     0.333333          0.500\n",
              "4     0.000000          0.000\n",
              "..         ...            ...\n",
              "939   0.100000          0.200\n",
              "940  -0.500000          1.000\n",
              "941   0.000000          1.000\n",
              "942   0.000000          0.000\n",
              "943   0.175000          0.295\n",
              "\n",
              "[944 rows x 2 columns]"
            ]
          },
          "metadata": {
            "tags": []
          },
          "execution_count": 24
        }
      ]
    },
    {
      "cell_type": "code",
      "metadata": {
        "id": "oYC_LJK0ID0S"
      },
      "source": [
        "sentimiento_ATM = pd.concat([textoingles, sentimiento], axis=1)"
      ],
      "execution_count": 25,
      "outputs": []
    },
    {
      "cell_type": "code",
      "metadata": {
        "colab": {
          "base_uri": "https://localhost:8080/",
          "height": 204
        },
        "id": "EjQim-kQRpWt",
        "outputId": "222b599b-90ea-408e-da70-e04ae9abd9c3"
      },
      "source": [
        "sentimiento_ATM.head()"
      ],
      "execution_count": 26,
      "outputs": [
        {
          "output_type": "execute_result",
          "data": {
            "text/html": [
              "<div>\n",
              "<style scoped>\n",
              "    .dataframe tbody tr th:only-of-type {\n",
              "        vertical-align: middle;\n",
              "    }\n",
              "\n",
              "    .dataframe tbody tr th {\n",
              "        vertical-align: top;\n",
              "    }\n",
              "\n",
              "    .dataframe thead th {\n",
              "        text-align: right;\n",
              "    }\n",
              "</style>\n",
              "<table border=\"1\" class=\"dataframe\">\n",
              "  <thead>\n",
              "    <tr style=\"text-align: right;\">\n",
              "      <th></th>\n",
              "      <th>P7</th>\n",
              "      <th>ingles</th>\n",
              "      <th>Polaridad</th>\n",
              "      <th>Subjectividad</th>\n",
              "    </tr>\n",
              "  </thead>\n",
              "  <tbody>\n",
              "    <tr>\n",
              "      <th>0</th>\n",
              "      <td>la unica sugerencia es un poco mas de celerida...</td>\n",
              "      <td>The only suggestion is a bit more celerity in ...</td>\n",
              "      <td>0.250000</td>\n",
              "      <td>0.75</td>\n",
              "    </tr>\n",
              "    <tr>\n",
              "      <th>1</th>\n",
              "      <td>llevo 90 minutos al telefono y nadie atiende p...</td>\n",
              "      <td>I have 90 minutes to the phone and nobody atte...</td>\n",
              "      <td>0.000000</td>\n",
              "      <td>0.00</td>\n",
              "    </tr>\n",
              "    <tr>\n",
              "      <th>2</th>\n",
              "      <td>es imposible comunicarse con ustedes y resolve...</td>\n",
              "      <td>It is impossible to communicate with you and s...</td>\n",
              "      <td>-0.666667</td>\n",
              "      <td>1.00</td>\n",
              "    </tr>\n",
              "    <tr>\n",
              "      <th>3</th>\n",
              "      <td>nunca atienden en el 148 ni contestan de maner...</td>\n",
              "      <td>They never attend at 148 or quickly answer ele...</td>\n",
              "      <td>0.333333</td>\n",
              "      <td>0.50</td>\n",
              "    </tr>\n",
              "    <tr>\n",
              "      <th>4</th>\n",
              "      <td>mejorar tiempos de respuesta de los tramites s...</td>\n",
              "      <td>Improve times of response from the requested p...</td>\n",
              "      <td>0.000000</td>\n",
              "      <td>0.00</td>\n",
              "    </tr>\n",
              "  </tbody>\n",
              "</table>\n",
              "</div>"
            ],
            "text/plain": [
              "                                                  P7  ... Subjectividad\n",
              "0  la unica sugerencia es un poco mas de celerida...  ...          0.75\n",
              "1  llevo 90 minutos al telefono y nadie atiende p...  ...          0.00\n",
              "2  es imposible comunicarse con ustedes y resolve...  ...          1.00\n",
              "3  nunca atienden en el 148 ni contestan de maner...  ...          0.50\n",
              "4  mejorar tiempos de respuesta de los tramites s...  ...          0.00\n",
              "\n",
              "[5 rows x 4 columns]"
            ]
          },
          "metadata": {
            "tags": []
          },
          "execution_count": 26
        }
      ]
    },
    {
      "cell_type": "code",
      "metadata": {
        "id": "R8IBat-ozydj"
      },
      "source": [
        "sentimiento_positivo = sentimiento_ATM[sentimiento_ATM.Polaridad > 0.15]\n",
        "sentimiento_negativo = sentimiento_ATM[sentimiento_ATM.Polaridad <= -0.15]\n",
        "sentimiento_neutral = sentimiento_ATM[(sentimiento_ATM.Polaridad > -0.1) & (sentimiento_ATM.Polaridad < 0.1)]"
      ],
      "execution_count": 27,
      "outputs": []
    },
    {
      "cell_type": "code",
      "metadata": {
        "colab": {
          "base_uri": "https://localhost:8080/",
          "height": 359
        },
        "id": "fHtBpwjz0gFA",
        "outputId": "37a4d692-bca3-4ca5-868e-5e57dee5d6ec"
      },
      "source": [
        "sentimiento_positivo.head(10)"
      ],
      "execution_count": 28,
      "outputs": [
        {
          "output_type": "execute_result",
          "data": {
            "text/html": [
              "<div>\n",
              "<style scoped>\n",
              "    .dataframe tbody tr th:only-of-type {\n",
              "        vertical-align: middle;\n",
              "    }\n",
              "\n",
              "    .dataframe tbody tr th {\n",
              "        vertical-align: top;\n",
              "    }\n",
              "\n",
              "    .dataframe thead th {\n",
              "        text-align: right;\n",
              "    }\n",
              "</style>\n",
              "<table border=\"1\" class=\"dataframe\">\n",
              "  <thead>\n",
              "    <tr style=\"text-align: right;\">\n",
              "      <th></th>\n",
              "      <th>P7</th>\n",
              "      <th>ingles</th>\n",
              "      <th>Polaridad</th>\n",
              "      <th>Subjectividad</th>\n",
              "    </tr>\n",
              "  </thead>\n",
              "  <tbody>\n",
              "    <tr>\n",
              "      <th>0</th>\n",
              "      <td>la unica sugerencia es un poco mas de celerida...</td>\n",
              "      <td>The only suggestion is a bit more celerity in ...</td>\n",
              "      <td>0.250000</td>\n",
              "      <td>0.750000</td>\n",
              "    </tr>\n",
              "    <tr>\n",
              "      <th>3</th>\n",
              "      <td>nunca atienden en el 148 ni contestan de maner...</td>\n",
              "      <td>They never attend at 148 or quickly answer ele...</td>\n",
              "      <td>0.333333</td>\n",
              "      <td>0.500000</td>\n",
              "    </tr>\n",
              "    <tr>\n",
              "      <th>11</th>\n",
              "      <td>no responde en forma rapida los email y no ati...</td>\n",
              "      <td>does not respond quickly emails and do not att...</td>\n",
              "      <td>0.333333</td>\n",
              "      <td>0.500000</td>\n",
              "    </tr>\n",
              "    <tr>\n",
              "      <th>23</th>\n",
              "      <td>muchas gracias por permitirme hacer el tramite...</td>\n",
              "      <td>Thank you very much for allowing me to do the ...</td>\n",
              "      <td>0.260000</td>\n",
              "      <td>0.260000</td>\n",
              "    </tr>\n",
              "    <tr>\n",
              "      <th>26</th>\n",
              "      <td>si serian tan amables de resolver un poco mas ...</td>\n",
              "      <td>if they would be so kind to solve a little fas...</td>\n",
              "      <td>0.203125</td>\n",
              "      <td>0.675000</td>\n",
              "    </tr>\n",
              "    <tr>\n",
              "      <th>31</th>\n",
              "      <td>la respuesta de tramites normales y simples de...</td>\n",
              "      <td>The response of normal and simple procedures s...</td>\n",
              "      <td>0.283333</td>\n",
              "      <td>0.568095</td>\n",
              "    </tr>\n",
              "    <tr>\n",
              "      <th>32</th>\n",
              "      <td>mayor rapedez en la pagina - lo demas ok</td>\n",
              "      <td>greater rapedez on the page - the rest ok</td>\n",
              "      <td>0.500000</td>\n",
              "      <td>0.500000</td>\n",
              "    </tr>\n",
              "    <tr>\n",
              "      <th>35</th>\n",
              "      <td>espero me resuelvan el problema muchas gracias</td>\n",
              "      <td>I hope I solve the problem thank you very much</td>\n",
              "      <td>0.260000</td>\n",
              "      <td>0.260000</td>\n",
              "    </tr>\n",
              "    <tr>\n",
              "      <th>36</th>\n",
              "      <td>creo que la pagina esta muy buena solo que no ...</td>\n",
              "      <td>I think the page is very good only that I do n...</td>\n",
              "      <td>0.250648</td>\n",
              "      <td>0.679259</td>\n",
              "    </tr>\n",
              "    <tr>\n",
              "      <th>37</th>\n",
              "      <td>tal vez mas informacion para los tramites online</td>\n",
              "      <td>Perhaps more information for online procedures</td>\n",
              "      <td>0.500000</td>\n",
              "      <td>0.500000</td>\n",
              "    </tr>\n",
              "  </tbody>\n",
              "</table>\n",
              "</div>"
            ],
            "text/plain": [
              "                                                   P7  ... Subjectividad\n",
              "0   la unica sugerencia es un poco mas de celerida...  ...      0.750000\n",
              "3   nunca atienden en el 148 ni contestan de maner...  ...      0.500000\n",
              "11  no responde en forma rapida los email y no ati...  ...      0.500000\n",
              "23  muchas gracias por permitirme hacer el tramite...  ...      0.260000\n",
              "26  si serian tan amables de resolver un poco mas ...  ...      0.675000\n",
              "31  la respuesta de tramites normales y simples de...  ...      0.568095\n",
              "32           mayor rapedez en la pagina - lo demas ok  ...      0.500000\n",
              "35     espero me resuelvan el problema muchas gracias  ...      0.260000\n",
              "36  creo que la pagina esta muy buena solo que no ...  ...      0.679259\n",
              "37  tal vez mas informacion para los tramites online   ...      0.500000\n",
              "\n",
              "[10 rows x 4 columns]"
            ]
          },
          "metadata": {
            "tags": []
          },
          "execution_count": 28
        }
      ]
    },
    {
      "cell_type": "code",
      "metadata": {
        "colab": {
          "base_uri": "https://localhost:8080/"
        },
        "id": "9mBJGy4C1bi6",
        "outputId": "d711374c-663b-4ca7-9bde-32ee045e08cb"
      },
      "source": [
        "sentimiento_positivo.shape"
      ],
      "execution_count": 29,
      "outputs": [
        {
          "output_type": "execute_result",
          "data": {
            "text/plain": [
              "(335, 4)"
            ]
          },
          "metadata": {
            "tags": []
          },
          "execution_count": 29
        }
      ]
    },
    {
      "cell_type": "code",
      "metadata": {
        "colab": {
          "base_uri": "https://localhost:8080/",
          "height": 359
        },
        "id": "-9Cb4lPV0pjW",
        "outputId": "1c6c53d2-db2f-4666-dbfa-ed92359ce904"
      },
      "source": [
        "sentimiento_negativo.head(10)"
      ],
      "execution_count": 30,
      "outputs": [
        {
          "output_type": "execute_result",
          "data": {
            "text/html": [
              "<div>\n",
              "<style scoped>\n",
              "    .dataframe tbody tr th:only-of-type {\n",
              "        vertical-align: middle;\n",
              "    }\n",
              "\n",
              "    .dataframe tbody tr th {\n",
              "        vertical-align: top;\n",
              "    }\n",
              "\n",
              "    .dataframe thead th {\n",
              "        text-align: right;\n",
              "    }\n",
              "</style>\n",
              "<table border=\"1\" class=\"dataframe\">\n",
              "  <thead>\n",
              "    <tr style=\"text-align: right;\">\n",
              "      <th></th>\n",
              "      <th>P7</th>\n",
              "      <th>ingles</th>\n",
              "      <th>Polaridad</th>\n",
              "      <th>Subjectividad</th>\n",
              "    </tr>\n",
              "  </thead>\n",
              "  <tbody>\n",
              "    <tr>\n",
              "      <th>2</th>\n",
              "      <td>es imposible comunicarse con ustedes y resolve...</td>\n",
              "      <td>It is impossible to communicate with you and s...</td>\n",
              "      <td>-0.666667</td>\n",
              "      <td>1.000000</td>\n",
              "    </tr>\n",
              "    <tr>\n",
              "      <th>27</th>\n",
              "      <td>en algun tramite la pagina es un poco complicada</td>\n",
              "      <td>in some procedure the page is a bit complicated</td>\n",
              "      <td>-0.500000</td>\n",
              "      <td>1.000000</td>\n",
              "    </tr>\n",
              "    <tr>\n",
              "      <th>44</th>\n",
              "      <td>ultimamente esta mucho tiempo en mantenimiento...</td>\n",
              "      <td>lately this time in maintenance the page espec...</td>\n",
              "      <td>-0.150000</td>\n",
              "      <td>0.800000</td>\n",
              "    </tr>\n",
              "    <tr>\n",
              "      <th>46</th>\n",
              "      <td>si bien el sistema de tramites online ha resue...</td>\n",
              "      <td>While the online processing system has solved ...</td>\n",
              "      <td>-0.390000</td>\n",
              "      <td>0.520000</td>\n",
              "    </tr>\n",
              "    <tr>\n",
              "      <th>54</th>\n",
              "      <td>muy costoso consegui las certificaciones</td>\n",
              "      <td>Very expensive I got the certifications</td>\n",
              "      <td>-0.650000</td>\n",
              "      <td>0.910000</td>\n",
              "    </tr>\n",
              "    <tr>\n",
              "      <th>61</th>\n",
              "      <td>es muy complejo realizar un reclamo por web y ...</td>\n",
              "      <td>It is very complex to make a web claim and als...</td>\n",
              "      <td>-0.390000</td>\n",
              "      <td>0.520000</td>\n",
              "    </tr>\n",
              "    <tr>\n",
              "      <th>63</th>\n",
              "      <td>menos demora en las respuestas y mas sencillo ...</td>\n",
              "      <td>Less delay in the answers and easier sealants</td>\n",
              "      <td>-0.166667</td>\n",
              "      <td>0.066667</td>\n",
              "    </tr>\n",
              "    <tr>\n",
              "      <th>65</th>\n",
              "      <td>es muy complejo e inentendible hacer seguimien...</td>\n",
              "      <td>It is very complex and inegitably monitoring p...</td>\n",
              "      <td>-0.390000</td>\n",
              "      <td>0.520000</td>\n",
              "    </tr>\n",
              "    <tr>\n",
              "      <th>68</th>\n",
              "      <td>nadie responde a las consultas no atienden el ...</td>\n",
              "      <td>Nobody responds to the consultations do not at...</td>\n",
              "      <td>-0.666667</td>\n",
              "      <td>1.000000</td>\n",
              "    </tr>\n",
              "    <tr>\n",
              "      <th>80</th>\n",
              "      <td>cuando trate de registrarme on line resulto im...</td>\n",
              "      <td>When you try to register on Line, it turned ou...</td>\n",
              "      <td>-0.666667</td>\n",
              "      <td>1.000000</td>\n",
              "    </tr>\n",
              "  </tbody>\n",
              "</table>\n",
              "</div>"
            ],
            "text/plain": [
              "                                                   P7  ... Subjectividad\n",
              "2   es imposible comunicarse con ustedes y resolve...  ...      1.000000\n",
              "27   en algun tramite la pagina es un poco complicada  ...      1.000000\n",
              "44  ultimamente esta mucho tiempo en mantenimiento...  ...      0.800000\n",
              "46  si bien el sistema de tramites online ha resue...  ...      0.520000\n",
              "54           muy costoso consegui las certificaciones  ...      0.910000\n",
              "61  es muy complejo realizar un reclamo por web y ...  ...      0.520000\n",
              "63  menos demora en las respuestas y mas sencillo ...  ...      0.066667\n",
              "65  es muy complejo e inentendible hacer seguimien...  ...      0.520000\n",
              "68  nadie responde a las consultas no atienden el ...  ...      1.000000\n",
              "80  cuando trate de registrarme on line resulto im...  ...      1.000000\n",
              "\n",
              "[10 rows x 4 columns]"
            ]
          },
          "metadata": {
            "tags": []
          },
          "execution_count": 30
        }
      ]
    },
    {
      "cell_type": "code",
      "metadata": {
        "colab": {
          "base_uri": "https://localhost:8080/"
        },
        "id": "9YNDObh51knn",
        "outputId": "9239ec9b-de7b-40ef-b405-777f030dc997"
      },
      "source": [
        "sentimiento_negativo.shape"
      ],
      "execution_count": 31,
      "outputs": [
        {
          "output_type": "execute_result",
          "data": {
            "text/plain": [
              "(106, 4)"
            ]
          },
          "metadata": {
            "tags": []
          },
          "execution_count": 31
        }
      ]
    },
    {
      "cell_type": "code",
      "metadata": {
        "colab": {
          "base_uri": "https://localhost:8080/",
          "height": 359
        },
        "id": "jteYLVvc0s9a",
        "outputId": "5090cd50-920c-4707-ac10-58c90b1aae7e"
      },
      "source": [
        "sentimiento_neutral.head(10)"
      ],
      "execution_count": 32,
      "outputs": [
        {
          "output_type": "execute_result",
          "data": {
            "text/html": [
              "<div>\n",
              "<style scoped>\n",
              "    .dataframe tbody tr th:only-of-type {\n",
              "        vertical-align: middle;\n",
              "    }\n",
              "\n",
              "    .dataframe tbody tr th {\n",
              "        vertical-align: top;\n",
              "    }\n",
              "\n",
              "    .dataframe thead th {\n",
              "        text-align: right;\n",
              "    }\n",
              "</style>\n",
              "<table border=\"1\" class=\"dataframe\">\n",
              "  <thead>\n",
              "    <tr style=\"text-align: right;\">\n",
              "      <th></th>\n",
              "      <th>P7</th>\n",
              "      <th>ingles</th>\n",
              "      <th>Polaridad</th>\n",
              "      <th>Subjectividad</th>\n",
              "    </tr>\n",
              "  </thead>\n",
              "  <tbody>\n",
              "    <tr>\n",
              "      <th>1</th>\n",
              "      <td>llevo 90 minutos al telefono y nadie atiende p...</td>\n",
              "      <td>I have 90 minutes to the phone and nobody atte...</td>\n",
              "      <td>0.000000</td>\n",
              "      <td>0.000000</td>\n",
              "    </tr>\n",
              "    <tr>\n",
              "      <th>4</th>\n",
              "      <td>mejorar tiempos de respuesta de los tramites s...</td>\n",
              "      <td>Improve times of response from the requested p...</td>\n",
              "      <td>0.000000</td>\n",
              "      <td>0.000000</td>\n",
              "    </tr>\n",
              "    <tr>\n",
              "      <th>5</th>\n",
              "      <td>mucha demora en resolver</td>\n",
              "      <td>A lot of delay in solving</td>\n",
              "      <td>0.000000</td>\n",
              "      <td>0.000000</td>\n",
              "    </tr>\n",
              "    <tr>\n",
              "      <th>6</th>\n",
              "      <td>mejorar los tramites digitales</td>\n",
              "      <td>Improve digital procedures</td>\n",
              "      <td>0.000000</td>\n",
              "      <td>0.000000</td>\n",
              "    </tr>\n",
              "    <tr>\n",
              "      <th>8</th>\n",
              "      <td>un desastre para personas mayores una verguenz...</td>\n",
              "      <td>A disaster for elderly a gauge embarrassment</td>\n",
              "      <td>0.000000</td>\n",
              "      <td>0.000000</td>\n",
              "    </tr>\n",
              "    <tr>\n",
              "      <th>9</th>\n",
              "      <td>es dificil al comienzo lleva horas para poder ...</td>\n",
              "      <td>It is difficult at the beginning it takes hour...</td>\n",
              "      <td>0.095238</td>\n",
              "      <td>0.720238</td>\n",
              "    </tr>\n",
              "    <tr>\n",
              "      <th>10</th>\n",
              "      <td>no pude tener repuesta de un expediente inicia...</td>\n",
              "      <td>I could not have a file of a file initiated on...</td>\n",
              "      <td>0.000000</td>\n",
              "      <td>0.000000</td>\n",
              "    </tr>\n",
              "    <tr>\n",
              "      <th>12</th>\n",
              "      <td>sugiero que el blanqueo de clave no sea con tr...</td>\n",
              "      <td>I suggest that the key laundering is not with ...</td>\n",
              "      <td>0.000000</td>\n",
              "      <td>1.000000</td>\n",
              "    </tr>\n",
              "    <tr>\n",
              "      <th>14</th>\n",
              "      <td>deberian especificar que tramite es on line o ...</td>\n",
              "      <td>they should specify that it is on line or face...</td>\n",
              "      <td>0.000000</td>\n",
              "      <td>0.000000</td>\n",
              "    </tr>\n",
              "    <tr>\n",
              "      <th>16</th>\n",
              "      <td>no entiendo por que motivo no atienden presenc...</td>\n",
              "      <td>I do not understand why reason they do not fac...</td>\n",
              "      <td>0.000000</td>\n",
              "      <td>0.300000</td>\n",
              "    </tr>\n",
              "  </tbody>\n",
              "</table>\n",
              "</div>"
            ],
            "text/plain": [
              "                                                   P7  ... Subjectividad\n",
              "1   llevo 90 minutos al telefono y nadie atiende p...  ...      0.000000\n",
              "4   mejorar tiempos de respuesta de los tramites s...  ...      0.000000\n",
              "5                            mucha demora en resolver  ...      0.000000\n",
              "6                      mejorar los tramites digitales  ...      0.000000\n",
              "8   un desastre para personas mayores una verguenz...  ...      0.000000\n",
              "9   es dificil al comienzo lleva horas para poder ...  ...      0.720238\n",
              "10  no pude tener repuesta de un expediente inicia...  ...      0.000000\n",
              "12  sugiero que el blanqueo de clave no sea con tr...  ...      1.000000\n",
              "14  deberian especificar que tramite es on line o ...  ...      0.000000\n",
              "16  no entiendo por que motivo no atienden presenc...  ...      0.300000\n",
              "\n",
              "[10 rows x 4 columns]"
            ]
          },
          "metadata": {
            "tags": []
          },
          "execution_count": 32
        }
      ]
    },
    {
      "cell_type": "code",
      "metadata": {
        "colab": {
          "base_uri": "https://localhost:8080/"
        },
        "id": "YBrUx0rf1q3F",
        "outputId": "0bb1cc64-2e42-463e-bc0d-322a53c81a85"
      },
      "source": [
        "sentimiento_neutral.shape"
      ],
      "execution_count": 33,
      "outputs": [
        {
          "output_type": "execute_result",
          "data": {
            "text/plain": [
              "(439, 4)"
            ]
          },
          "metadata": {
            "tags": []
          },
          "execution_count": 33
        }
      ]
    }
  ]
}